{
 "cells": [
  {
   "cell_type": "code",
   "execution_count": 1,
   "metadata": {},
   "outputs": [],
   "source": [
    "import pandas as pd\n",
    "import random\n",
    "\n",
    "from collections import OrderedDict\n",
    "from itertools import islice\n"
   ]
  },
  {
   "cell_type": "markdown",
   "metadata": {},
   "source": [
    "#### `(u^2 * w^2 * x * y) + (w * x * y * z^2) + (u^2 * w^2 * x * y^2) + (u  * x  * z) + y  = 40`"
   ]
  },
  {
   "cell_type": "code",
   "execution_count": 3,
   "metadata": {},
   "outputs": [],
   "source": [
    "POPULATION_SIZE = 3000\n",
    "MIN_VALUE = -300\n",
    "MAX_VALUE = 300\n",
    "NUM_ITEMS_FOR_SELECTION = 1000\n",
    "NUM_ITEMS_FOR_MUTATION = 500\n",
    "NUM_OF_SUITABLE_DESCEDANTS = 200\n",
    "\n",
    "MUTATION_PROBABILITY_FOR_SUITABLE = 0.01\n",
    "MUTATION_PROBABILITY_FOR_UNSUITABLE = 0.25"
   ]
  },
  {
   "cell_type": "code",
   "execution_count": 4,
   "metadata": {},
   "outputs": [],
   "source": [
    "def generate_item(min_value, max_value):\n",
    "    return [random.randint(min_value, max_value) for _ in ['u', 'w', 'x', 'y', 'z']]\n"
   ]
  },
  {
   "cell_type": "code",
   "execution_count": 5,
   "metadata": {},
   "outputs": [],
   "source": [
    "def create_initial_population(population_size: int, min_value: int, max_value: int):\n",
    "    population = []\n",
    "    for index in range(population_size):\n",
    "        item = generate_item(min_value, max_value)\n",
    "        population.append(item)\n",
    "    return population\n"
   ]
  },
  {
   "cell_type": "code",
   "execution_count": 6,
   "metadata": {},
   "outputs": [],
   "source": [
    "population = create_initial_population(POPULATION_SIZE, MIN_VALUE, MAX_VALUE)"
   ]
  },
  {
   "cell_type": "code",
   "execution_count": 7,
   "metadata": {},
   "outputs": [],
   "source": [
    "TARGET_VALUE = 40\n",
    "\n",
    "\n",
    "def target_function(u, w, x, y, z):\n",
    "    return abs(u**2*w**2*x*y + w*x*y*z**2 + u**2*w**2*x*y**2 + u*x*z + y - TARGET_VALUE)\n"
   ]
  },
  {
   "cell_type": "code",
   "execution_count": 8,
   "metadata": {},
   "outputs": [],
   "source": [
    "def perform_tournament_selection(population, num_items_for_selection, num_items_for_mutation, target_function):\n",
    "    sample =  random.sample(population, num_items_for_selection)\n",
    "    \n",
    "    target_item_dict = {\n",
    "        target_function(*item): item\n",
    "        for item in sample\n",
    "    }\n",
    "    ordered_target_item_dict = OrderedDict(sorted(target_item_dict.items()))\n",
    "    \n",
    "    return list(OrderedDict(islice(ordered_target_item_dict.items(), 0, num_items_for_mutation)).values())\n",
    "    "
   ]
  },
  {
   "cell_type": "code",
   "execution_count": 149,
   "metadata": {},
   "outputs": [],
   "source": [
    "selection = perform_tournament_selection(population, NUM_ITEMS_FOR_SELECTION, NUM_ITEMS_FOR_MUTATION, target_function)"
   ]
  },
  {
   "cell_type": "code",
   "execution_count": 9,
   "metadata": {},
   "outputs": [],
   "source": [
    "def perform_homogeneous_crossing_for_two_elements(first_item, second_item):\n",
    "    new_item = [\n",
    "        random.choice([coordinate1, coordinate2]) for coordinate1, coordinate2 in zip(first_item, second_item)\n",
    "    ]\n",
    "    return new_item\n"
   ]
  },
  {
   "cell_type": "code",
   "execution_count": 10,
   "metadata": {},
   "outputs": [],
   "source": [
    "def perform_homogeneous_crossing(selection, descendants_size):\n",
    "    descendants = [\n",
    "        perform_homogeneous_crossing_for_two_elements(random.choice(selection), random.choice(selection))\n",
    "        for _ in range(descendants_size)\n",
    "    ]\n",
    "    return descendants\n"
   ]
  },
  {
   "cell_type": "code",
   "execution_count": 11,
   "metadata": {},
   "outputs": [],
   "source": [
    "def should_perform_coordinate_mutation(mutation_probability):\n",
    "    return random.random() < mutation_probability\n"
   ]
  },
  {
   "cell_type": "code",
   "execution_count": 12,
   "metadata": {},
   "outputs": [],
   "source": [
    "def perform_mutation(\n",
    "   selection, num_of_suitable_descendants, mutation_probability_for_suitable, mutation_probability_for_unsuitable\n",
    "):\n",
    "    \n",
    "    for item in selection[:num_of_suitable_descendants]:\n",
    "        for index, coordinate in enumerate(item):\n",
    "            if should_perform_coordinate_mutation(mutation_probability_for_suitable):\n",
    "                item[index] = random.randint(MIN_VALUE, MAX_VALUE)\n",
    "    \n",
    "    for item in selection[num_of_suitable_descendants:]:\n",
    "        for index, coordinate in enumerate(item):\n",
    "            if should_perform_coordinate_mutation(mutation_probability_for_unsuitable):\n",
    "                item[index] = random.randint(MIN_VALUE, MAX_VALUE)\n",
    "\n",
    "    return selection\n"
   ]
  },
  {
   "cell_type": "code",
   "execution_count": 168,
   "metadata": {},
   "outputs": [],
   "source": [
    "selection = perform_mutation(\n",
    "    selection,\n",
    "    NUM_OF_SUITABLE_DESCEDANTS,\n",
    "    MUTATION_PROBABILITY_FOR_SUITABLE,\n",
    "    MUTATION_PROBABILITY_FOR_UNSUITABLE\n",
    ")"
   ]
  },
  {
   "cell_type": "code",
   "execution_count": 13,
   "metadata": {},
   "outputs": [],
   "source": [
    "def perform_descendants_substitution(selection, population_size, target_function):\n",
    "    return perform_tournament_selection(selection, len(selection), population_size, target_function)\n"
   ]
  },
  {
   "cell_type": "code",
   "execution_count": 177,
   "metadata": {},
   "outputs": [],
   "source": [
    "perform_descendants_substitution(selection, 2*POPULATION_SIZE, POPULATION_SIZE, target_function)[:5]"
   ]
  },
  {
   "cell_type": "code",
   "execution_count": 14,
   "metadata": {},
   "outputs": [],
   "source": [
    "def run_genetic_algorithm(\n",
    "    population_size, min_value, max_value, num_items_for_selection, num_items_for_mutation, target_function,\n",
    "    num_of_suitable_descedants, mutation_probability_for_suitable, mutation_probability_for_unsuitable\n",
    "):\n",
    "    initial_population = create_initial_population(population_size, min_value, max_value)\n",
    "    iteration = 0\n",
    "    while True:\n",
    "        selection = perform_tournament_selection(\n",
    "            initial_population, num_items_for_selection, num_items_for_mutation, target_function\n",
    "        )\n",
    "        descendants = perform_homogeneous_crossing(selection, 2*population_size)\n",
    "        descedants = perform_mutation(\n",
    "            descendants,\n",
    "            num_of_suitable_descedants,\n",
    "            mutation_probability_for_suitable,\n",
    "            mutation_probability_for_unsuitable\n",
    "        )\n",
    "        selection = perform_descendants_substitution(\n",
    "            descendants, population_size, target_function\n",
    "        )\n",
    "        \n",
    "        target_values = [target_function(*item) for item in selection]\n",
    "        print(f\"MIN of target values: {min(target_values)}; AVG of target values: {sum(target_values)/len(target_values)}\")\n",
    "        \n",
    "        result = []\n",
    "        for item in selection:\n",
    "            if target_function(*item) == 0:\n",
    "                result.append(item)\n",
    "        if result:\n",
    "            return result\n",
    "            \n",
    "        if iteration == 10000:\n",
    "            return None\n",
    "        iteration += 1\n"
   ]
  },
  {
   "cell_type": "code",
   "execution_count": 19,
   "metadata": {},
   "outputs": [
    {
     "name": "stdout",
     "output_type": "stream",
     "text": [
      "MIN of target values: 59; AVG of target values: 7691653702000.94\n",
      "MIN of target values: 0; AVG of target values: 9388124309269.967\n"
     ]
    }
   ],
   "source": [
    "result = run_genetic_algorithm(\n",
    "    POPULATION_SIZE,\n",
    "    MIN_VALUE,\n",
    "    MAX_VALUE,\n",
    "    NUM_ITEMS_FOR_SELECTION,\n",
    "    NUM_ITEMS_FOR_MUTATION,\n",
    "    target_function,\n",
    "    NUM_OF_SUITABLE_DESCEDANTS,\n",
    "    MUTATION_PROBABILITY_FOR_SUITABLE,\n",
    "    MUTATION_PROBABILITY_FOR_UNSUITABLE\n",
    ")\n"
   ]
  },
  {
   "cell_type": "code",
   "execution_count": 20,
   "metadata": {},
   "outputs": [
    {
     "data": {
      "text/plain": [
       "[[67, 57, 0, 40, -256]]"
      ]
     },
     "execution_count": 20,
     "metadata": {},
     "output_type": "execute_result"
    }
   ],
   "source": [
    "result"
   ]
  },
  {
   "cell_type": "markdown",
   "metadata": {},
   "source": [
    " "
   ]
  },
  {
   "cell_type": "markdown",
   "metadata": {},
   "source": [
    "   "
   ]
  },
  {
   "cell_type": "markdown",
   "metadata": {},
   "source": [
    "  "
   ]
  },
  {
   "cell_type": "markdown",
   "metadata": {},
   "source": [
    "#### `(u^2 * w^2 * x * y * z) + (u * w^2 * x * y * z) + (y^2 * z) + z + (x^2 * y^2 * z) = 13`"
   ]
  },
  {
   "cell_type": "code",
   "execution_count": 22,
   "metadata": {},
   "outputs": [],
   "source": [
    "TARGET_VALUE = 13\n",
    "\n",
    "\n",
    "def target_function(u, w, x, y, z):\n",
    "    return abs(u**2*w**2*x*y*z + u*w**2*x*y*z + y**2*z + z + x**2*y**2*z - TARGET_VALUE)\n"
   ]
  },
  {
   "cell_type": "code",
   "execution_count": 25,
   "metadata": {},
   "outputs": [
    {
     "name": "stdout",
     "output_type": "stream",
     "text": [
      "MIN of target values: 13; AVG of target values: 9234579553279.82\n",
      "MIN of target values: 13; AVG of target values: 9207174758465.797\n",
      "MIN of target values: 7; AVG of target values: 8415167200486.194\n",
      "MIN of target values: 8; AVG of target values: 11092905126629.746\n",
      "MIN of target values: 13; AVG of target values: 7853367551798.89\n",
      "MIN of target values: 13; AVG of target values: 9787099219436.02\n",
      "MIN of target values: 7; AVG of target values: 10454810720993.396\n",
      "MIN of target values: 13; AVG of target values: 10461770457664.186\n",
      "MIN of target values: 8; AVG of target values: 10318622196450.2\n",
      "MIN of target values: 13; AVG of target values: 10282775393872.197\n",
      "MIN of target values: 13; AVG of target values: 9093881897295.059\n",
      "MIN of target values: 13; AVG of target values: 9615426688185.398\n",
      "MIN of target values: 7; AVG of target values: 9310758454849.932\n",
      "MIN of target values: 13; AVG of target values: 8162429075825.686\n",
      "MIN of target values: 3; AVG of target values: 12381474055768.512\n",
      "MIN of target values: 13; AVG of target values: 9900598112959.625\n",
      "MIN of target values: 1; AVG of target values: 11578540401849.84\n",
      "MIN of target values: 5; AVG of target values: 8993153129438.896\n",
      "MIN of target values: 3; AVG of target values: 10543369952581.586\n",
      "MIN of target values: 13; AVG of target values: 10520683650826.697\n",
      "MIN of target values: 13; AVG of target values: 9057550862734.336\n",
      "MIN of target values: 13; AVG of target values: 10777703328988.686\n",
      "MIN of target values: 13; AVG of target values: 9259937122383.385\n",
      "MIN of target values: 13; AVG of target values: 8530364203846.187\n",
      "MIN of target values: 13; AVG of target values: 10203702723984.916\n",
      "MIN of target values: 3; AVG of target values: 12044338991128.93\n",
      "MIN of target values: 13; AVG of target values: 10906616486036.57\n",
      "MIN of target values: 10; AVG of target values: 9049518253340.32\n",
      "MIN of target values: 0; AVG of target values: 10937092771091.994\n"
     ]
    }
   ],
   "source": [
    "result = run_genetic_algorithm(\n",
    "    POPULATION_SIZE,\n",
    "    MIN_VALUE,\n",
    "    MAX_VALUE,\n",
    "    NUM_ITEMS_FOR_SELECTION,\n",
    "    NUM_ITEMS_FOR_MUTATION,\n",
    "    target_function,\n",
    "    NUM_OF_SUITABLE_DESCEDANTS,\n",
    "    MUTATION_PROBABILITY_FOR_SUITABLE,\n",
    "    MUTATION_PROBABILITY_FOR_UNSUITABLE\n",
    ")"
   ]
  },
  {
   "cell_type": "code",
   "execution_count": 26,
   "metadata": {},
   "outputs": [
    {
     "data": {
      "text/plain": [
       "[[-282, 289, 87, 0, 13]]"
      ]
     },
     "execution_count": 26,
     "metadata": {},
     "output_type": "execute_result"
    }
   ],
   "source": [
    "result"
   ]
  }
 ],
 "metadata": {
  "kernelspec": {
   "display_name": "Python 3",
   "language": "python",
   "name": "python3"
  },
  "language_info": {
   "codemirror_mode": {
    "name": "ipython",
    "version": 3
   },
   "file_extension": ".py",
   "mimetype": "text/x-python",
   "name": "python",
   "nbconvert_exporter": "python",
   "pygments_lexer": "ipython3",
   "version": "3.8.8"
  }
 },
 "nbformat": 4,
 "nbformat_minor": 4
}
